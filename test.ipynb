{
 "cells": [
  {
   "cell_type": "code",
   "execution_count": null,
   "metadata": {
    "executionInfo": {
     "elapsed": 34742,
     "status": "ok",
     "timestamp": 1620668368184,
     "user": {
      "displayName": "Vijayaragavan S",
      "photoUrl": "https://lh6.googleusercontent.com/-UTS5-5fJO8Q/AAAAAAAAAAI/AAAAAAAAEQI/DoiTura9bjY/s64/photo.jpg",
      "userId": "12956082895753146053"
     },
     "user_tz": 240
    },
    "id": "Srq_ctl2_a1Y"
   },
   "outputs": [],
   "source": [
    "from glob import glob\n",
    "import os\n",
    "import torch\n",
    "\n",
    "def get_model_name(path: str) -> str:\n",
    "    return os.path.splitext(os.path.basename(path))[0]\n",
    "\n",
    "device = torch.device(\"cuda:0\" if torch.cuda.is_available() else \"cpu\")\n",
    "# If it is not finding your model file (.pt), try checking the surrounding directories and placing/creating \n",
    "# the .pt in the directory it's looking for e.g. ./TrainingResults/ResNet18/2021-05-02-1000/resnet18_pretrained.pt\n",
    "models = {get_model_name(p): torch.load(p, \"cpu\") for p in glob(\"./TrainingResults/**/**/*.pt\")}\n",
    "for modelname, model in models.items():\n",
    "    if not modelname.startswith(\"covidnet\"):\n",
    "        for p in model.parameters():\n",
    "            p.requires_grad = False\n",
    "    model.eval()\n"
   ]
  },
  {
   "cell_type": "code",
   "execution_count": null,
   "metadata": {
    "id": "V3D2aqmVw1kX"
   },
   "outputs": [],
   "source": [
    "sorted(models.keys())"
   ]
  },
  {
   "cell_type": "code",
   "execution_count": null,
   "metadata": {
    "executionInfo": {
     "elapsed": 34729,
     "status": "ok",
     "timestamp": 1620668368187,
     "user": {
      "displayName": "Vijayaragavan S",
      "photoUrl": "https://lh6.googleusercontent.com/-UTS5-5fJO8Q/AAAAAAAAAAI/AAAAAAAAEQI/DoiTura9bjY/s64/photo.jpg",
      "userId": "12956082895753146053"
     },
     "user_tz": 240
    },
    "id": "VaBOM5ADAO_t"
   },
   "outputs": [],
   "source": [
    "import numpy as np\n",
    "import time\n",
    "import torch.nn as nn\n",
    "import torch.nn.functional as F\n",
    "import warnings\n",
    "from PIL import Image\n",
    "from termcolor import colored\n",
    "from torchvision import datasets, transforms\n",
    "from torch.autograd import Variable\n",
    "from torch.utils.data import DataLoader\n",
    "from torchvision.datasets import ImageFolder\n",
    "\n",
    "\n",
    "class_names = ['covid','non']\n",
    "\n",
    "sm = torch.nn.Softmax()\n",
    "\n",
    "# Based on DeepCovid code base\n",
    "############### Get the predicted probabilities of all samples\n",
    "\n",
    "def test_model(name, model, loader):\n",
    "    model = model.to(device)\n",
    "    start_time = time.time()\n",
    "    Y_pred, Y_test = [], []\n",
    "    warnings.filterwarnings(\"ignore\")\n",
    "\n",
    "    for i, (images, target) in enumerate(loader):\n",
    "        images = images.to(device)\n",
    "        model_start = time.time()\n",
    "        outputs = model(images)\n",
    "        model_time = time.time() - model_start\n",
    "        outputs = outputs.cpu().detach()\n",
    "\n",
    "        Y_pred.append(outputs)\n",
    "        Y_test.append(target)\n",
    "\n",
    "    y_pred = torch.cat(Y_pred)\n",
    "    y_test = torch.cat(Y_test)\n",
    "    covid_count = y_test.argmax()\n",
    "\n",
    "    covid_prob = sm(y_pred[:covid_count, :])[:, 0]\n",
    "    non_prob   = sm(y_pred[covid_count:, :])[:, 0]\n",
    "    end_time = time.time()\n",
    "    tot_time = end_time- start_time\n",
    "    print(f\"Tested {name} in {tot_time:.3f}s\")\n",
    "\n",
    "    return covid_prob, non_prob"
   ]
  },
  {
   "cell_type": "code",
   "execution_count": null,
   "metadata": {
    "id": "hXUr-l9kaWJx"
   },
   "outputs": [],
   "source": [
    "batch_size = 100\n",
    "\n",
    "test_data_path = 'data/test'\n",
    "\n",
    "test_covid_prob, test_non_prob = {}, {}\n",
    "for modelname, model in models.items():\n",
    "    imsize = 299 if modelname.startswith(\"inception\") else 224\n",
    "\n",
    "    data_transforms = transforms.Compose([\n",
    "        transforms.Resize(256),\n",
    "        transforms.CenterCrop(imsize),\n",
    "        transforms.Resize(imsize),\n",
    "        transforms.ToTensor(),\n",
    "        transforms.Normalize([0.485, 0.456, 0.406], [0.229, 0.224, 0.225])\n",
    "    ])\n",
    "\n",
    "    test_folder = ImageFolder(test_data_path, data_transforms)\n",
    "    test_loader = DataLoader(test_folder, batch_size=batch_size)\n",
    "    test_covid_prob[modelname], test_non_prob[modelname] = test_model(modelname, model, test_loader)\n",
    "  "
   ]
  },
  {
   "cell_type": "code",
   "execution_count": null,
   "metadata": {
    "executionInfo": {
     "elapsed": 113031,
     "status": "ok",
     "timestamp": 1620668446507,
     "user": {
      "displayName": "Vijayaragavan S",
      "photoUrl": "https://lh6.googleusercontent.com/-UTS5-5fJO8Q/AAAAAAAAAAI/AAAAAAAAEQI/DoiTura9bjY/s64/photo.jpg",
      "userId": "12956082895753146053"
     },
     "user_tz": 240
    },
    "id": "qUNk0urAAO_u"
   },
   "outputs": [],
   "source": [
    "from sklearn.metrics import confusion_matrix\n",
    "import pandas as pd\n",
    "import matplotlib.pyplot as plt\n",
    "import seaborn as sn\n",
    "\n",
    "\n",
    "thresh = 0.36\n",
    "\n",
    "# Based on DeepCovid code\n",
    "############### derive labels based on probabilities and cut-off threshold\n",
    "\n",
    "def plot_confusion_matrix(ax, name, covid_prob, non_prob):\n",
    "    y_pred = torch.cat([covid_prob > thresh, non_prob > thresh]).int()\n",
    "    y_test = torch.cat([torch.ones(len(covid_prob)), torch.zeros(len(non_prob))]).int()\n",
    "\n",
    "    cnf_matrix = confusion_matrix(y_test, y_pred)\n",
    "    np.set_printoptions(precision=2)   \n",
    "\n",
    "    # Plot normalized confusion matrix\n",
    "\n",
    "    df_cm = pd.DataFrame(cnf_matrix, index=[i for i in class_names], columns=[i for i in class_names])\n",
    "\n",
    "    hm = sn.heatmap(df_cm, cmap=plt.cm.Blues, annot=True, cbar=False, fmt='g', xticklabels=['Pred Non-COVID','Pred COVID-2019'], yticklabels= ['True Non-COVID','True COVID-2019'], ax=ax)\n",
    "    hm.set_title(name)\n"
   ]
  },
  {
   "cell_type": "code",
   "execution_count": null,
   "metadata": {
    "executionInfo": {
     "elapsed": 113274,
     "status": "ok",
     "timestamp": 1620668446755,
     "user": {
      "displayName": "Vijayaragavan S",
      "photoUrl": "https://lh6.googleusercontent.com/-UTS5-5fJO8Q/AAAAAAAAAAI/AAAAAAAAEQI/DoiTura9bjY/s64/photo.jpg",
      "userId": "12956082895753146053"
     },
     "user_tz": 240
    },
    "id": "Z_IQhc2GAO_u"
   },
   "outputs": [],
   "source": [
    "from matplotlib.transforms import Bbox\n",
    "\n",
    "def full_extent(ax, pad=0.0):\n",
    "    \"\"\"Get the full extent of an axes, including axes labels, tick labels, and\n",
    "    titles.\"\"\"\n",
    "    # For text objects, we need to draw the figure first, otherwise the extents\n",
    "    # are undefined.\n",
    "    ax.figure.canvas.draw()\n",
    "    items = ax.get_xticklabels() + ax.get_yticklabels() \n",
    "    items += [ax, ax.title]\n",
    "    bbox = Bbox.union([item.get_window_extent() for item in items])\n",
    "\n",
    "    return bbox.expanded(1.0 + pad, 1.0 + pad)\n",
    "\n",
    "\n",
    "def save_ax(fig, ax, filename):\n",
    "    # https://stackoverflow.com/questions/4325733/save-a-subplot-in-matplotlib\n",
    "    # Save just the portion _inside_ the second axis's boundaries\n",
    "    extent = full_extent(ax).transformed(fig.dpi_scale_trans.inverted())\n",
    "    # Alternatively,\n",
    "    # extent = ax.get_tightbbox(fig.canvas.renderer).transformed(fig.dpi_scale_trans.inverted())\n",
    "    fig.savefig(filename, bbox_inches=extent)"
   ]
  },
  {
   "cell_type": "code",
   "execution_count": null,
   "metadata": {
    "id": "OzhwkcqAAO_v"
   },
   "outputs": [],
   "source": [
    "NUM_OF_COLS = 2\n",
    "NUM_OF_ROWS = (len(models) + NUM_OF_COLS - 1) // NUM_OF_COLS\n",
    "fig = plt.figure(figsize=(4*NUM_OF_COLS, 5*NUM_OF_ROWS))\n",
    "fig.suptitle(\"Test confusion matrices\")\n",
    "for i, model_name in enumerate(sorted(models.keys()), start=1):\n",
    "    ax = fig.add_subplot(NUM_OF_ROWS, NUM_OF_COLS, i)\n",
    "    plot_confusion_matrix(ax, model_name, test_covid_prob[model_name], test_non_prob[model_name])\n",
    "    save_ax(fig, ax, f\"{model_name}_cm.png\")    "
   ]
  },
  {
   "cell_type": "code",
   "execution_count": null,
   "metadata": {
    "executionInfo": {
     "elapsed": 114359,
     "status": "ok",
     "timestamp": 1620668447851,
     "user": {
      "displayName": "Vijayaragavan S",
      "photoUrl": "https://lh6.googleusercontent.com/-UTS5-5fJO8Q/AAAAAAAAAAI/AAAAAAAAEQI/DoiTura9bjY/s64/photo.jpg",
      "userId": "12956082895753146053"
     },
     "user_tz": 240
    },
    "id": "EUIoeP2N4McU"
   },
   "outputs": [],
   "source": [
    "# Based on DeepCovid code\n",
    "############### ROC Curve and AUC\n",
    "import matplotlib.pyplot as plt\n",
    "from sklearn.metrics import roc_curve\n",
    "from sklearn.metrics import roc_auc_score\n",
    "\n",
    "def plot_roc_curve(model_name, covid_prob, non_prob):\n",
    "    y_test = torch.cat([torch.ones(len(covid_prob)), torch.zeros(len(non_prob))])\n",
    "    y_pred = torch.cat([covid_prob, non_prob])\n",
    "            \n",
    "    auc = roc_auc_score(y_test, y_pred)\n",
    "    ns_fpr, ns_tpr, _ = roc_curve(y_test, y_pred)\n",
    "\n",
    "    plt.plot(ns_fpr, ns_tpr, linewidth=2, label=f\"{model_name}\\nAUC={auc:.3f}\")\n",
    "    plt.ylim([0,1.05])\n",
    "    plt.xlabel('False Positive Rate')\n",
    "    plt.ylabel('True Positive Rate')\n",
    "    # show the legend\n",
    "    plt.legend(loc='lower right')\n"
   ]
  },
  {
   "cell_type": "code",
   "execution_count": null,
   "metadata": {
    "id": "eGKUIENtAO_w",
    "scrolled": true
   },
   "outputs": [],
   "source": [
    "fig = plt.figure(figsize=[6, 6])\n",
    "fig.suptitle(\"Test ROC Curves\")\n",
    "for model_name in models.keys():\n",
    "    plot_roc_curve(model_name, test_covid_prob[model_name], test_non_prob[model_name])\n",
    "    plt.savefig(\"test_roc.png\")"
   ]
  },
  {
   "cell_type": "code",
   "execution_count": null,
   "metadata": {
    "executionInfo": {
     "elapsed": 114733,
     "status": "ok",
     "timestamp": 1620668448237,
     "user": {
      "displayName": "Vijayaragavan S",
      "photoUrl": "https://lh6.googleusercontent.com/-UTS5-5fJO8Q/AAAAAAAAAAI/AAAAAAAAEQI/DoiTura9bjY/s64/photo.jpg",
      "userId": "12956082895753146053"
     },
     "user_tz": 240
    },
    "id": "zmfUMg7_4CVJ",
    "scrolled": true
   },
   "outputs": [],
   "source": [
    "from sklearn.metrics import precision_score, accuracy_score, f1_score, recall_score\n",
    "import pandas as pd\n",
    "import matplotlib.table\n",
    "import seaborn as sn\n",
    "\n",
    "# Based on DeepCovid Code\n",
    "############### derive labels based on probabilities and cut-off threshold\n",
    "\n",
    "def print_scores(dataset_name, covid_probs, non_probs):\n",
    "    cell_text = []\n",
    "    \n",
    "    model_names = sorted(covid_probs.keys())\n",
    "    for model_name in model_names:\n",
    "        covid_prob = covid_probs[model_name]\n",
    "        non_prob = non_probs[model_name]\n",
    "\n",
    "        covid_pred = (covid_prob > thresh).int()\n",
    "        covid_true = torch.ones(len(covid_prob))\n",
    "\n",
    "        non_pred = (non_prob > thresh).int()\n",
    "        non_true = torch.zeros(len(non_prob))\n",
    "\n",
    "        sensitivity = recall_score(covid_true, covid_pred)\n",
    "        specificity = recall_score(1-non_true, 1-non_pred)\n",
    "\n",
    "        y_pred = torch.cat([covid_pred, non_pred])\n",
    "        y_true = torch.cat([covid_true, non_true])\n",
    "\n",
    "        precision = precision_score(y_true, y_pred)\n",
    "        accuracy = accuracy_score(y_true, y_pred)\n",
    "        f1 = f1_score(y_true, y_pred)\n",
    "    \n",
    "        cell_text.append([f\"{n:.3f}\" for n in [sensitivity, specificity, precision, accuracy, f1]])\n",
    "\n",
    "    fig, ax = plt.subplots(figsize=(10, 10))\n",
    "    fig.patch.set_visible(False)\n",
    "    ax.axis('off')\n",
    "    ax.axis('tight')\n",
    "\n",
    "    col_labels = [\"Sensitivity\", \"Specificity\", \"Precision\", \"Accuracy\", \"F1\"]\n",
    "    table = matplotlib.table.table(ax=ax, cellText=cell_text, rowLabels=model_names, colLabels=col_labels, loc=\"center\")\n",
    "    table.scale(1,3)\n",
    "    table.set_fontsize(20)\n",
    "\n",
    "    return cell_text"
   ]
  },
  {
   "cell_type": "code",
   "execution_count": null,
   "metadata": {
    "id": "I9_vu4FEAO_w"
   },
   "outputs": [],
   "source": [
    "cell_text = print_scores(\"Testing\", test_covid_prob, test_non_prob)"
   ]
  },
  {
   "cell_type": "code",
   "execution_count": null,
   "metadata": {
    "id": "2HJgpUL5AO_x"
   },
   "outputs": [],
   "source": [
    "for row in cell_text:\n",
    "    print(\",\".join(row))"
   ]
  },
  {
   "cell_type": "code",
   "execution_count": null,
   "metadata": {
    "executionInfo": {
     "elapsed": 115181,
     "status": "ok",
     "timestamp": 1620668448701,
     "user": {
      "displayName": "Vijayaragavan S",
      "photoUrl": "https://lh6.googleusercontent.com/-UTS5-5fJO8Q/AAAAAAAAAAI/AAAAAAAAEQI/DoiTura9bjY/s64/photo.jpg",
      "userId": "12956082895753146053"
     },
     "user_tz": 240
    },
    "id": "s2fmoA6LAO_x"
   },
   "outputs": [],
   "source": [
    "def plot_probabilities(model_name, covid_prob, non_prob):\n",
    "    fig, axs = plt.subplots(2)\n",
    "    bins = np.linspace(0, 1, 25)\n",
    "    fig.suptitle(model_name)\n",
    "    \n",
    "    axs[0].hist(covid_prob, bins, color='blue', histtype = 'bar', label='Probabilities of COVID-19 Samples')\n",
    "    axs[0].legend(loc='upper center')\n",
    "    axs[1].hist(non_prob, bins, color='green', label='Probabilities of Non-COVID Samples')\n",
    "    axs[1].legend(loc='upper center')\n",
    "    plt.savefig(f'{model_name}_probabilities.png')"
   ]
  },
  {
   "cell_type": "code",
   "execution_count": null,
   "metadata": {
    "id": "5LQTHVPEAO_x"
   },
   "outputs": [],
   "source": [
    "for name in models.keys():\n",
    "    plot_probabilities(name, test_covid_prob[name].tolist(), test_non_prob[name].tolist())"
   ]
  }
 ],
 "metadata": {
  "accelerator": "GPU",
  "colab": {
   "collapsed_sections": [],
   "name": "test.ipynb",
   "provenance": []
  },
  "kernelspec": {
   "display_name": "Python 3",
   "language": "python",
   "name": "python3"
  },
  "language_info": {
   "codemirror_mode": {
    "name": "ipython",
    "version": 3
   },
   "file_extension": ".py",
   "mimetype": "text/x-python",
   "name": "python",
   "nbconvert_exporter": "python",
   "pygments_lexer": "ipython3",
   "version": "3.8.5"
  }
 },
 "nbformat": 4,
 "nbformat_minor": 1
}
