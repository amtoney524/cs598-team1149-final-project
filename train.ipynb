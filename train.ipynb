{
 "cells": [
  {
   "cell_type": "code",
   "execution_count": 1,
   "metadata": {},
   "outputs": [],
   "source": [
    "# Specify hyperparameters\n",
    "num_epochs = 50\n",
    "learning_rate = 0.004\n",
    "momentum = 0.9\n",
    "batch_size = 100\n",
    "num_workers = 6\n",
    "\n",
    "# output labels (COVID or NON-COVID)\n",
    "num_classes = 2\n",
    "\n",
    "# Specify model to train\n",
    "model_name = \"ResNet50\"\n",
    "assert model_name in [\"ResNet18\", \"ResNet50\", \"DenseNet121\", \"SqueezeNet1.1\", \"InceptionV3\", \"COVIDNet\", \"DeepCNNLSTM\"]\n",
    "\n",
    "#from IPython.display import clear_output # This will clear previous print statements\n",
    "from IPython.core.interactiveshell import InteractiveShell\n",
    "InteractiveShell.ast_node_interactivity = \"all\" #This is to keep all print statements"
   ]
  },
  {
   "cell_type": "code",
   "execution_count": 2,
   "metadata": {
    "id": "fbQNa9_tbwKu"
   },
   "outputs": [
    {
     "data": {
      "text/plain": [
       "44"
      ]
     },
     "execution_count": 2,
     "metadata": {},
     "output_type": "execute_result"
    }
   ],
   "source": [
    "import torch.nn as nn\n",
    "import torchvision\n",
    "from datetime import datetime\n",
    "from pathlib import Path\n",
    "from covidnet import CovidNet\n",
    "from deepcnnlstm import DeepCNNLSTM\n",
    "\n",
    "def no_grad(model):\n",
    "    for param in model.parameters():\n",
    "        param.requires_grad = False\n",
    "        \n",
    "    return model\n",
    "now = datetime.now()\n",
    "now = now.strftime(\"%Y-%m-%d-%H%M\")\n",
    "Path(f'./TrainingResults/{model_name}/{now}').mkdir(parents=True, exist_ok=True)\n",
    "f = open(f'./TrainingResults/{model_name}/{now}/hyperparameters.txt', 'w+')\n",
    "f.write(f'epochs={num_epochs}\\nlearning rate={learning_rate}\\nbatch size={batch_size}')\n",
    "f.close()\n",
    "\n",
    "if model_name == \"ResNet18\":\n",
    "    trained_model_path = f'TrainingResults/{model_name}/{now}/resnet18_pretrained.pt'\n",
    "    model_conv = no_grad(torchvision.models.resnet18(pretrained=True))\n",
    "    \n",
    "    num_ftrs = model_conv.fc.in_features\n",
    "    model_conv.fc = nn.Linear(num_ftrs, num_classes)\n",
    "    \n",
    "elif model_name == \"ResNet50\":\n",
    "    trained_model_path = f'TrainingResults/{model_name}/{now}/resnet50_pretrained.pt'\n",
    "    model_conv = no_grad(torchvision.models.resnet50(pretrained=True))\n",
    "    \n",
    "    num_ftrs = model_conv.fc.in_features\n",
    "    model_conv.fc = nn.Linear(num_ftrs, num_classes)\n",
    "         \n",
    "elif model_name == \"DenseNet121\":\n",
    "    trained_model_path = f'TrainingResults/{model_name}/{now}/densenet121_pretrained.pt'\n",
    "    model_conv = no_grad(torchvision.models.densenet121(pretrained=True))\n",
    "    \n",
    "    num_ftrs = model_conv.classifier.in_features\n",
    "    model_conv.classifier = nn.Linear(num_ftrs, num_classes)\n",
    "    \n",
    "elif model_name == \"SqueezeNet1.1\":\n",
    "    trained_model_path = f'TrainingResults/{model_name}/{now}/squeezenet1-1_pretrained.pt'\n",
    "    model_conv = no_grad(torchvision.models.squeezenet1_1(pretrained=True))\n",
    "    \n",
    "    # SqueezeNet fine tuning adapted from https://discuss.pytorch.org/t/fine-tuning-squeezenet/3855\n",
    "    num_ftrs = 512\n",
    "    model_conv.classifier = nn.Sequential(\n",
    "        nn.Dropout(p=0.5),\n",
    "        nn.Conv2d(num_ftrs, num_classes, kernel_size=1),\n",
    "        nn.ReLU(inplace=True),\n",
    "        nn.AvgPool2d(13)\n",
    "    )\n",
    "    \n",
    "elif model_name == \"InceptionV3\":\n",
    "    trained_model_path = f'TrainingResults/{model_name}/{now}/inceptionv3_pretrained.pt'\n",
    "    model_conv = no_grad(torchvision.models.inception_v3(pretrained=True))\n",
    "    \n",
    "    num_ftrs = model_conv.AuxLogits.fc.in_features\n",
    "    model_conv.AuxLogits.fc = nn.Linear(num_ftrs, num_classes)  \n",
    "    num_ftrs = model_conv.fc.in_features        \n",
    "    model_conv.fc = nn.Linear(num_ftrs, num_classes)\n",
    "\n",
    "elif model_name == \"COVIDNet\":\n",
    "    # CovidNet source code: https://github.com/iliasprc/COVIDNet/blob/master/model/model.py\n",
    "    trained_model_path = f'TrainingResults/{model_name}/{now}/covidnet_trained.pt'\n",
    "    model_conv = CovidNet(model='small', n_classes=num_classes)\n",
    "\n",
    "elif model_name == \"DeepCNNLSTM\":\n",
    "    # Reference:\n",
    "    # https://www.medrxiv.org/content/10.1101/2020.06.18.20134718v1.full.pdf\n",
    "    # https://www.sciencedirect.com/science/article/pii/S2352914820305621\n",
    "    trained_model_path = f'TrainingResults/{model_name}/{now}/deepcnnlstm_trained.pt'\n",
    "    model_conv = DeepCNNLSTM(n_classes=num_classes)\n",
    "    "
   ]
  },
  {
   "cell_type": "code",
   "execution_count": 3,
   "metadata": {
    "id": "IrwxkAo7bwKv"
   },
   "outputs": [],
   "source": [
    "# Data transformations and subsequent training adapted from https://github.com/shervinmin/DeepCovid\n",
    "from torchvision import transforms\n",
    "\n",
    "img_size = 299 if (model_name == \"InceptionV3\") else 224\n",
    "\n",
    "data_transforms = {\n",
    "    'train': transforms.Compose([\n",
    "        transforms.Resize(256),\n",
    "        transforms.CenterCrop(img_size),\n",
    "        transforms.Resize(img_size),\n",
    "        transforms.ToTensor(),\n",
    "        transforms.Normalize([0.485, 0.456, 0.406], [0.229, 0.224, 0.225])\n",
    "    ]),\n",
    "    'val': transforms.Compose([\n",
    "        transforms.Resize(256),\n",
    "        transforms.CenterCrop(img_size),\n",
    "        transforms.Resize(img_size),\n",
    "        transforms.ToTensor(),\n",
    "        transforms.Normalize([0.485, 0.456, 0.406], [0.229, 0.224, 0.225])\n",
    "    ])\n",
    "}"
   ]
  },
  {
   "cell_type": "code",
   "execution_count": 4,
   "metadata": {
    "id": "d-MsPSqPbwKv",
    "pycharm": {
     "name": "#%%\n"
    }
   },
   "outputs": [],
   "source": [
    "import os\n",
    "import torch\n",
    "from torch.utils.data import DataLoader\n",
    "from torchvision.datasets import ImageFolder\n",
    "\n",
    "data_dir = './data/'\n",
    "\n",
    "image_datasets = {x: ImageFolder(os.path.join(data_dir, x),\n",
    "                                 data_transforms[x])\n",
    "                  for x in ['train', 'val']}\n",
    "dataloaders = {x: DataLoader(image_datasets[x], batch_size=batch_size,\n",
    "                             shuffle=True, num_workers=num_workers)\n",
    "              for x in ['train', 'val']}\n",
    "dataset_sizes = {x: len(image_datasets[x]) for x in ['train', 'val']}\n",
    "class_names = image_datasets['train'].classes  ## 0: child, and 1: nonchild\n",
    "\n",
    "device = torch.device(\"cuda:0\" if torch.cuda.is_available() else \"cpu\")\n"
   ]
  },
  {
   "cell_type": "code",
   "execution_count": 5,
   "metadata": {
    "id": "OrXid2QpbwKw",
    "pycharm": {
     "name": "#%%\n"
    }
   },
   "outputs": [
    {
     "name": "stdout",
     "output_type": "stream",
     "text": [
      "Using matplotlib backend: Qt5Agg\n"
     ]
    }
   ],
   "source": [
    "import copy\n",
    "import time\n",
    "import torch\n",
    "from matplotlib import pyplot as plt\n",
    "from termcolor import colored\n",
    "\n",
    "%matplotlib\n",
    "\n",
    "def train_model(name, model, criterion, optimizer, scheduler, trained_model_path):\n",
    "    since = time.time()\n",
    "\n",
    "    best_model_wts = copy.deepcopy(model.state_dict())\n",
    "    best_acc = 0.0\n",
    "\n",
    "    val_losses = []\n",
    "    train_losses = []\n",
    "    val_accuracy = []\n",
    "    train_accuracy = []\n",
    "\n",
    "    for epoch in range(num_epochs):\n",
    "        print('Epoch {}/{}'.format(epoch+1, num_epochs))\n",
    "        print('-' * 10)\n",
    "\n",
    "        # Each epoch has a training and validation phase\n",
    "        for phase in ['train', 'val']:\n",
    "            if phase == 'train':\n",
    "                scheduler.step()\n",
    "                model.train()  # Set model to training mode\n",
    "            else:\n",
    "                model.eval()   # Set model to evaluate mode\n",
    "\n",
    "            running_loss = 0.0\n",
    "            running_corrects = 0\n",
    "\n",
    "            # Iterate over data.\n",
    "            for cur_batch_ind, (inputs, labels) in enumerate(dataloaders[phase], start=1):\n",
    "                batch_start_time = time.time()\n",
    "\n",
    "                inputs = inputs.to(device)\n",
    "                labels = labels.to(device)\n",
    "\n",
    "                # zero the parameter gradients\n",
    "                optimizer.zero_grad()\n",
    "                \n",
    "                # forward\n",
    "                # track history if only in train\n",
    "                with torch.set_grad_enabled(phase == 'train'):\n",
    "                    if phase == 'train' and name == 'InceptionV3':\n",
    "                        outputs, aux_outputs = model(inputs)\n",
    "\n",
    "                        loss1 = criterion(outputs, labels)\n",
    "                        loss2 = criterion(aux_outputs, labels)\n",
    "                        loss = loss1 + 0.4*loss2\n",
    "                    else:\n",
    "                        outputs = model(inputs)\n",
    "                        loss = criterion(outputs, labels)\n",
    "\n",
    "                    # backward + optimize only if in training phase\n",
    "                    if phase == 'train':\n",
    "                        loss.backward()\n",
    "                        optimizer.step()\n",
    "                        \n",
    "                _, preds = torch.max(outputs, 1)\n",
    "\n",
    "                # statistics\n",
    "                running_loss += loss.item() * inputs.size(0)\n",
    "                matches_bool = (preds == labels.data).cpu()\n",
    "                matches_sum = matches_bool.sum()\n",
    "                running_corrects += matches_sum\n",
    "\n",
    "            epoch_loss= running_loss / dataset_sizes[phase]\n",
    "            epoch_acc = running_corrects.double() / dataset_sizes[phase]\n",
    "\n",
    "            if phase == 'train':\n",
    "                train_losses.append(epoch_loss)\n",
    "                train_accuracy.append(epoch_acc)\n",
    "            else:\n",
    "                val_losses.append(epoch_loss)\n",
    "                val_accuracy.append(epoch_acc)\n",
    "\n",
    "            print('{} Loss: {:.4f} Acc: {:.4f}'.format(\n",
    "                phase, epoch_loss, epoch_acc))\n",
    "\n",
    "            # deep copy the model\n",
    "            if phase == 'val' and epoch_acc > best_acc:\n",
    "                best_acc = epoch_acc\n",
    "                best_epoch = epoch\n",
    "                best_model_wts = copy.deepcopy(model.state_dict())\n",
    "                torch.save(model, trained_model_path)\n",
    "\n",
    "        # Plot learning curve    \n",
    "        plt.cla()\n",
    "        plt.plot(range(len(val_losses)), val_losses, label='val')\n",
    "        plt.plot(range(len(train_losses)), train_losses, label='train')\n",
    "        plt.legend()\n",
    "        plt.ylim(0,1)\n",
    "        plt.ylabel('Loss')\n",
    "        plt.xlabel('Epoch')\n",
    "        plt.suptitle(\"Training Losses/Epoch\")\n",
    "        plt.savefig(f'./TrainingResults/{model_name}/{now}/train-val-loss-by-epoch.png')\n",
    "\n",
    "    time_elapsed = time.time() - since\n",
    "    print('Training complete in {:.0f}m {:.0f}s'.format(\n",
    "        time_elapsed // 60, time_elapsed % 60))\n",
    "    print('Best val Acc= %.3f at Epoch: %d' %(best_acc,best_epoch) )\n",
    "    \n",
    "    # load best model weights\n",
    "    model.load_state_dict(best_model_wts)\n",
    "    return model\n"
   ]
  },
  {
   "cell_type": "code",
   "execution_count": 6,
   "metadata": {
    "id": "IKRvoOu9bwKx",
    "pycharm": {
     "name": "#%%\n"
    },
    "scrolled": true
   },
   "outputs": [
    {
     "name": "stdout",
     "output_type": "stream",
     "text": [
      "Epoch 1/50\n",
      "----------\n"
     ]
    },
    {
     "name": "stderr",
     "output_type": "stream",
     "text": [
      "/home/skuretski/anaconda3/envs/cs410/lib/python3.7/site-packages/torch/optim/lr_scheduler.py:100: UserWarning: Detected call of `lr_scheduler.step()` before `optimizer.step()`. In PyTorch 1.1.0 and later, you should call them in the opposite order: `optimizer.step()` before `lr_scheduler.step()`.  Failure to do this will result in PyTorch skipping the first value of the learning rate schedule.See more details at https://pytorch.org/docs/stable/optim.html#how-to-adjust-learning-rate\n",
      "  \"https://pytorch.org/docs/stable/optim.html#how-to-adjust-learning-rate\", UserWarning)\n"
     ]
    },
    {
     "ename": "KeyboardInterrupt",
     "evalue": "",
     "output_type": "error",
     "traceback": [
      "\u001b[0;31m---------------------------------------------------------------------------\u001b[0m",
      "\u001b[0;31mKeyboardInterrupt\u001b[0m                         Traceback (most recent call last)",
      "\u001b[0;32m<ipython-input-6-8e9298ed5bc0>\u001b[0m in \u001b[0;36m<module>\u001b[0;34m\u001b[0m\n\u001b[1;32m     24\u001b[0m \u001b[0;34m\u001b[0m\u001b[0m\n\u001b[1;32m     25\u001b[0m model_conv = train_model(model_name, model_conv, criterion, optimizer_conv,\n\u001b[0;32m---> 26\u001b[0;31m                          exp_lr_scheduler, trained_model_path)\n\u001b[0m\u001b[1;32m     27\u001b[0m \u001b[0mmodel_conv\u001b[0m\u001b[0;34m.\u001b[0m\u001b[0meval\u001b[0m\u001b[0;34m(\u001b[0m\u001b[0;34m)\u001b[0m\u001b[0;34m\u001b[0m\u001b[0;34m\u001b[0m\u001b[0m\n\u001b[1;32m     28\u001b[0m \u001b[0mtorch\u001b[0m\u001b[0;34m.\u001b[0m\u001b[0msave\u001b[0m\u001b[0;34m(\u001b[0m\u001b[0mmodel_conv\u001b[0m\u001b[0;34m,\u001b[0m \u001b[0mtrained_model_path\u001b[0m\u001b[0;34m)\u001b[0m\u001b[0;34m\u001b[0m\u001b[0;34m\u001b[0m\u001b[0m\n",
      "\u001b[0;32m<ipython-input-5-ee37db5c8fc5>\u001b[0m in \u001b[0;36mtrain_model\u001b[0;34m(name, model, criterion, optimizer, scheduler, trained_model_path)\u001b[0m\n\u001b[1;32m     64\u001b[0m \u001b[0;34m\u001b[0m\u001b[0m\n\u001b[1;32m     65\u001b[0m                 \u001b[0;31m# statistics\u001b[0m\u001b[0;34m\u001b[0m\u001b[0;34m\u001b[0m\u001b[0;34m\u001b[0m\u001b[0m\n\u001b[0;32m---> 66\u001b[0;31m                 \u001b[0mrunning_loss\u001b[0m \u001b[0;34m+=\u001b[0m \u001b[0mloss\u001b[0m\u001b[0;34m.\u001b[0m\u001b[0mitem\u001b[0m\u001b[0;34m(\u001b[0m\u001b[0;34m)\u001b[0m \u001b[0;34m*\u001b[0m \u001b[0minputs\u001b[0m\u001b[0;34m.\u001b[0m\u001b[0msize\u001b[0m\u001b[0;34m(\u001b[0m\u001b[0;36m0\u001b[0m\u001b[0;34m)\u001b[0m\u001b[0;34m\u001b[0m\u001b[0;34m\u001b[0m\u001b[0m\n\u001b[0m\u001b[1;32m     67\u001b[0m                 \u001b[0mmatches_bool\u001b[0m \u001b[0;34m=\u001b[0m \u001b[0;34m(\u001b[0m\u001b[0mpreds\u001b[0m \u001b[0;34m==\u001b[0m \u001b[0mlabels\u001b[0m\u001b[0;34m.\u001b[0m\u001b[0mdata\u001b[0m\u001b[0;34m)\u001b[0m\u001b[0;34m.\u001b[0m\u001b[0mcpu\u001b[0m\u001b[0;34m(\u001b[0m\u001b[0;34m)\u001b[0m\u001b[0;34m\u001b[0m\u001b[0;34m\u001b[0m\u001b[0m\n\u001b[1;32m     68\u001b[0m                 \u001b[0mmatches_sum\u001b[0m \u001b[0;34m=\u001b[0m \u001b[0mmatches_bool\u001b[0m\u001b[0;34m.\u001b[0m\u001b[0msum\u001b[0m\u001b[0;34m(\u001b[0m\u001b[0;34m)\u001b[0m\u001b[0;34m\u001b[0m\u001b[0;34m\u001b[0m\u001b[0m\n",
      "\u001b[0;31mKeyboardInterrupt\u001b[0m: "
     ]
    }
   ],
   "source": [
    "import time\n",
    "from torch import optim\n",
    "from torch.optim import lr_scheduler\n",
    "from torchvision import models\n",
    "\n",
    "start_time = time.time()\n",
    "\n",
    "model_conv = model_conv.to(device)\n",
    "criterion = nn.CrossEntropyLoss()\n",
    "\n",
    "# Observe that only parameters of final layer are being optimized as opposed to before\n",
    "if (model_name == \"ResNet18\") or (model_name == \"ResNet50\"):\n",
    "    optimizer_conv = optim.SGD(model_conv.fc.parameters(), lr=learning_rate, momentum=momentum)\n",
    "elif (model_name == \"DenseNet121\") or (model_name == \"SqueezeNet1.1\"):\n",
    "    optimizer_conv = optim.SGD(model_conv.classifier.parameters(), lr=learning_rate, momentum=momentum)\n",
    "elif model_name == \"InceptionV3\":\n",
    "    params_to_update = [p for _, p in model_conv.named_parameters() if p.requires_grad]\n",
    "    optimizer_conv = optim.SGD(params_to_update, lr=learning_rate, momentum=momentum)\n",
    "elif (model_name == \"COVIDNet\") or (model_name == \"DeepCNNLSTM\"):\n",
    "    optimizer_conv = optim.SGD(model_conv.parameters(), lr=learning_rate, momentum=momentum)\n",
    "\n",
    "# Decay LR by a factor of 0.1 every 7 epochs\n",
    "exp_lr_scheduler = lr_scheduler.StepLR(optimizer_conv, step_size=7, gamma=0.1)\n",
    "\n",
    "model_conv = train_model(model_name, model_conv, criterion, optimizer_conv,\n",
    "                         exp_lr_scheduler, trained_model_path)\n",
    "model_conv.eval()\n",
    "torch.save(model_conv, trained_model_path)\n",
    "\n",
    "end_time= time.time()\n",
    "print(\"total_time tranfer learning=\", end_time - start_time)\n"
   ]
  },
  {
   "cell_type": "code",
   "execution_count": null,
   "metadata": {
    "id": "BhB0q6I-bwKy"
   },
   "outputs": [],
   "source": []
  }
 ],
 "metadata": {
  "kernelspec": {
   "display_name": "Python 3",
   "language": "python",
   "name": "python3"
  },
  "language_info": {
   "codemirror_mode": {
    "name": "ipython",
    "version": 3
   },
   "file_extension": ".py",
   "mimetype": "text/x-python",
   "name": "python",
   "nbconvert_exporter": "python",
   "pygments_lexer": "ipython3",
   "version": "3.7.9"
  }
 },
 "nbformat": 4,
 "nbformat_minor": 1
}
